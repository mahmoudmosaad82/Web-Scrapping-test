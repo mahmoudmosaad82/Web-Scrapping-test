{
 "cells": [
  {
   "cell_type": "code",
   "execution_count": 1,
   "id": "4a76b3a3",
   "metadata": {},
   "outputs": [],
   "source": [
    "import requests\n",
    "import csv \n",
    "import pandas as pd"
   ]
  },
  {
   "cell_type": "code",
   "execution_count": 2,
   "id": "c1393cb5",
   "metadata": {},
   "outputs": [],
   "source": [
    "employees= requests.get(\"https://gorest.co.in/public/v2/users\")"
   ]
  },
  {
   "cell_type": "code",
   "execution_count": 3,
   "id": "52ae7418",
   "metadata": {},
   "outputs": [],
   "source": [
    "#notice we save employees.json in same employees to save data space \n",
    "employees=employees.json()"
   ]
  },
  {
   "cell_type": "code",
   "execution_count": 4,
   "id": "bf91d7d2",
   "metadata": {
    "scrolled": true
   },
   "outputs": [
    {
     "name": "stdout",
     "output_type": "stream",
     "text": [
      "[{'id': 445075, 'name': 'Shashi Khatri', 'email': 'khatri_shashi@johnson.co', 'gender': 'male', 'status': 'inactive'}, {'id': 445074, 'name': 'Anal Nehru', 'email': 'anal_nehru@ebert.info', 'gender': 'female', 'status': 'active'}, {'id': 445073, 'name': 'Mukesh Banerjee DVM', 'email': 'banerjee_dvm_mukesh@wehner-gutmann.info', 'gender': 'female', 'status': 'active'}, {'id': 445072, 'name': 'Gauraang Chopra', 'email': 'gauraang_chopra@larkin.com', 'gender': 'male', 'status': 'inactive'}, {'id': 445071, 'name': 'Pran Adiga', 'email': 'adiga_pran@corwin-oberbrunner.co', 'gender': 'male', 'status': 'inactive'}, {'id': 445070, 'name': 'Shankar Arora', 'email': 'arora_shankar@welch.co', 'gender': 'female', 'status': 'active'}, {'id': 445069, 'name': 'Pres. Bandhu Pandey', 'email': 'pandey_bandhu_pres@abbott.io', 'gender': 'male', 'status': 'active'}, {'id': 445068, 'name': 'Bhudev Khanna', 'email': 'bhudev_khanna@graham.org', 'gender': 'male', 'status': 'active'}, {'id': 445067, 'name': 'Arindam Khanna MD', 'email': 'arindam_khanna_md@ortiz.biz', 'gender': 'male', 'status': 'inactive'}, {'id': 445066, 'name': 'Amb. Aruna Menon', 'email': 'menon_amb_aruna@gleason-brakus.io', 'gender': 'female', 'status': 'active'}]\n"
     ]
    }
   ],
   "source": [
    "print(employees)"
   ]
  },
  {
   "cell_type": "code",
   "execution_count": 5,
   "id": "c48a9942",
   "metadata": {},
   "outputs": [
    {
     "name": "stdout",
     "output_type": "stream",
     "text": [
      "{'id': 445075, 'name': 'Shashi Khatri', 'email': 'khatri_shashi@johnson.co', 'gender': 'male', 'status': 'inactive'}\n",
      "{'id': 445074, 'name': 'Anal Nehru', 'email': 'anal_nehru@ebert.info', 'gender': 'female', 'status': 'active'}\n",
      "{'id': 445073, 'name': 'Mukesh Banerjee DVM', 'email': 'banerjee_dvm_mukesh@wehner-gutmann.info', 'gender': 'female', 'status': 'active'}\n",
      "{'id': 445072, 'name': 'Gauraang Chopra', 'email': 'gauraang_chopra@larkin.com', 'gender': 'male', 'status': 'inactive'}\n",
      "{'id': 445071, 'name': 'Pran Adiga', 'email': 'adiga_pran@corwin-oberbrunner.co', 'gender': 'male', 'status': 'inactive'}\n",
      "{'id': 445070, 'name': 'Shankar Arora', 'email': 'arora_shankar@welch.co', 'gender': 'female', 'status': 'active'}\n",
      "{'id': 445069, 'name': 'Pres. Bandhu Pandey', 'email': 'pandey_bandhu_pres@abbott.io', 'gender': 'male', 'status': 'active'}\n",
      "{'id': 445068, 'name': 'Bhudev Khanna', 'email': 'bhudev_khanna@graham.org', 'gender': 'male', 'status': 'active'}\n",
      "{'id': 445067, 'name': 'Arindam Khanna MD', 'email': 'arindam_khanna_md@ortiz.biz', 'gender': 'male', 'status': 'inactive'}\n",
      "{'id': 445066, 'name': 'Amb. Aruna Menon', 'email': 'menon_amb_aruna@gleason-brakus.io', 'gender': 'female', 'status': 'active'}\n"
     ]
    },
    {
     "data": {
      "text/plain": [
       "dict_keys(['id', 'name', 'email', 'gender', 'status'])"
      ]
     },
     "execution_count": 5,
     "metadata": {},
     "output_type": "execute_result"
    }
   ],
   "source": [
    "for i in employees:\n",
    "    print(i)\n",
    "employees[0].keys()"
   ]
  },
  {
   "cell_type": "code",
   "execution_count": 6,
   "id": "7a2c6380",
   "metadata": {},
   "outputs": [],
   "source": [
    "#taking reading of data and enroll name,email,gender,status as (0,1) \n",
    "with open(\"output.csv\", 'w', newline=\"\") as f:\n",
    "    fieldnames = ['name', 'email', 'gender', 'status']\n",
    "    writer = csv.DictWriter(f, fieldnames=fieldnames)\n",
    "    writer.writeheader()\n",
    "    for emp in employees: \n",
    "        if emp['status']=='active':\n",
    "            emp['status']=1\n",
    "        else:\n",
    "            emp['status']=0\n",
    "        writer.writerow({'name': emp['name'], 'email': emp['email'], 'gender': emp['gender'], 'status': emp['status']})\n"
   ]
  },
  {
   "cell_type": "code",
   "execution_count": null,
   "id": "54a3e9a7",
   "metadata": {},
   "outputs": [],
   "source": [
    "# data = [writer.writerow() for row in data if 'id' not in row]\n",
    "# data "
   ]
  },
  {
   "cell_type": "code",
   "execution_count": 8,
   "id": "0578c5cb",
   "metadata": {},
   "outputs": [
    {
     "name": "stdout",
     "output_type": "stream",
     "text": [
      "[{'name': 'Shashi Khatri', 'email': 'khatri_shashi@johnson.co', 'gender': 'male', 'status': 0}, {'name': 'Anal Nehru', 'email': 'anal_nehru@ebert.info', 'gender': 'female', 'status': 1}, {'name': 'Mukesh Banerjee DVM', 'email': 'banerjee_dvm_mukesh@wehner-gutmann.info', 'gender': 'female', 'status': 1}, {'name': 'Gauraang Chopra', 'email': 'gauraang_chopra@larkin.com', 'gender': 'male', 'status': 0}, {'name': 'Pran Adiga', 'email': 'adiga_pran@corwin-oberbrunner.co', 'gender': 'male', 'status': 0}, {'name': 'Shankar Arora', 'email': 'arora_shankar@welch.co', 'gender': 'female', 'status': 1}, {'name': 'Pres. Bandhu Pandey', 'email': 'pandey_bandhu_pres@abbott.io', 'gender': 'male', 'status': 1}, {'name': 'Bhudev Khanna', 'email': 'bhudev_khanna@graham.org', 'gender': 'male', 'status': 1}, {'name': 'Arindam Khanna MD', 'email': 'arindam_khanna_md@ortiz.biz', 'gender': 'male', 'status': 0}, {'name': 'Amb. Aruna Menon', 'email': 'menon_amb_aruna@gleason-brakus.io', 'gender': 'female', 'status': 1}]\n"
     ]
    }
   ],
   "source": [
    "#creates a new list list_1 with the desired key-value pairs from the original data\n",
    "list_1=[]\n",
    "for i in employees:\n",
    "    dict_1 = dict()\n",
    "    dict_1['name']=i['name']\n",
    "    dict_1['email']=i['email']\n",
    "    dict_1['gender']=i['gender']\n",
    "    dict_1['status']=i['status']\n",
    "    list_1.append(dict_1)\n",
    "# convert the status field to 1 or 0 as required\n",
    "for j in list_1: \n",
    "        if i['status']=='active':\n",
    "            i['status']=1\n",
    "        else:\n",
    "            i['status']=0\n",
    "print(list_1)"
   ]
  },
  {
   "cell_type": "code",
   "execution_count": 9,
   "id": "3fe3c1e6",
   "metadata": {},
   "outputs": [],
   "source": [
    "# Remove dictionaries with extra key\n",
    "with open(\"output1.csv\", 'w', newline=\"\") as f:\n",
    "    fieldnames = ['name', 'email', 'gender', 'status']\n",
    "    writer = csv.DictWriter(f, fieldnames=fieldnames)\n",
    "    writer.writeheader()\n",
    "    writer.writerows(list_1)\n",
    "\n"
   ]
  },
  {
   "cell_type": "code",
   "execution_count": null,
   "id": "961e9f84",
   "metadata": {},
   "outputs": [],
   "source": []
  }
 ],
 "metadata": {
  "kernelspec": {
   "display_name": "Python 3 (ipykernel)",
   "language": "python",
   "name": "python3"
  },
  "language_info": {
   "codemirror_mode": {
    "name": "ipython",
    "version": 3
   },
   "file_extension": ".py",
   "mimetype": "text/x-python",
   "name": "python",
   "nbconvert_exporter": "python",
   "pygments_lexer": "ipython3",
   "version": "3.9.12"
  }
 },
 "nbformat": 4,
 "nbformat_minor": 5
}
