{
 "cells": [
  {
   "cell_type": "code",
   "execution_count": 1,
   "id": "7e0c4f7a",
   "metadata": {},
   "outputs": [],
   "source": [
    "#import requests library\n",
    "import requests"
   ]
  },
  {
   "cell_type": "code",
   "execution_count": 2,
   "id": "ac306e8e",
   "metadata": {},
   "outputs": [],
   "source": [
    "url = 'https://jekso.github.io/scrapping-example/index.html'"
   ]
  },
  {
   "cell_type": "code",
   "execution_count": 3,
   "id": "6e314540",
   "metadata": {},
   "outputs": [],
   "source": [
    "response= requests.get(url)"
   ]
  },
  {
   "cell_type": "code",
   "execution_count": 5,
   "id": "4b1133a3",
   "metadata": {},
   "outputs": [
    {
     "name": "stdout",
     "output_type": "stream",
     "text": [
      "<!DOCTYPE html>\n",
      "\n",
      "<html>\n",
      "\n",
      "    <head>\n",
      "        <title>My First HTML Page</title>\n",
      "\n",
      "        <style>\n",
      "\n",
      "            p {\n",
      "                color: green;\n",
      "                \n",
      "            }\n",
      "\n",
      "            h1 {\n",
      "                color:blue;\n",
      "                text-shadow: 2px 2px 5px red;\n",
      "            }\n",
      "\n",
      "\n",
      "            img {\n",
      "                width: 200px;\n",
      "                height: 200px;\n",
      "            }\n",
      "\n",
      "\n",
      "            select {\n",
      "                width: 300px;\n",
      "                height: 50px;\n",
      "                background-color: orange;\n",
      "            }\n",
      "\n",
      "            div#bigred {\n",
      "                width: 100%%;\n",
      "                height: 200px;\n",
      "                background-color: red;\n",
      "                margin: 20px;\n",
      "                color: white;\n",
      "            }\n",
      "\n",
      "\n",
      "            div#smallblue {\n",
      "                width: 100%%;\n",
      "                height: 100px;\n",
      "                background-color: blue;\n",
      "                margin: 20px;\n",
      "                color: yellow;\n",
      "            }\n",
      "\n",
      "            li.redul {\n",
      "                color: red;\n",
      "            }\n",
      "\n",
      "            li.blueol {\n",
      "                color:blue;\n",
      "            }\n",
      "\n",
      "            .h2_orange {\n",
      "                color: orange;\n",
      "            }\n",
      "\n",
      "            .jupyter_img {\n",
      "                width: 200px;\n",
      "                height: 200px;\n",
      "                border: solid green 3px;\n",
      "            }\n",
      "\n",
      "            .bg-yellow {\n",
      "                background-color: yellow;\n",
      "            }\n",
      "\n",
      "        </style>\n",
      "\n",
      "    </head>\n",
      "\n",
      "\n",
      "    <body>\n",
      "\n",
      "        <p>Iam a paragrapph</p>\n",
      "\n",
      "        <br><hr><br>\n",
      "\n",
      "        <h1>My First H1 Header</h1>\n",
      "        <h1>My Second H1 Header</h1>\n",
      "\n",
      "        <h2 class=\"h2_orange bg-yellow\">My First H2 Header</h2>\n",
      "        <h2 class=\"h2_orange\">My Second H2 Header</h2>\n",
      "        <h2>My 3rd H2 Header</h2>\n",
      "\n",
      "\n",
      "        <br><hr><br>\n",
      "\n",
      "        <ul>\n",
      "            <li class='redul'> Milk </li>\n",
      "            <li class='redul'> Oranges </li>\n",
      "        </ul>\n",
      "\n",
      "        <br><hr><br>\n",
      "\n",
      "        <ol>\n",
      "            <li class='blueol'> Milk </li>\n",
      "            <li class='blueol'> Oranges </li>\n",
      "        </ol>\n",
      "\n",
      "        <br><hr><br>\n",
      "\n",
      "        <img src=\"my_img.png\" class=\"jupyter_img\">\n",
      "        \n",
      "        <br><hr><br>\n",
      "\n",
      "        <a href=\"http://www.google.com\">Go To Google</a>\n",
      "\n",
      "        <br><hr><br>\n",
      "\n",
      "        <form>\n",
      "            Username: <input type=\"text\" class=\"bg-yellow\">\n",
      "            <br><br>\n",
      "            Passowrd: <input type=\"password\">\n",
      "            <br><br>\n",
      "\n",
      "            <select>\n",
      "                <option value=\"volvo\">Volvo</option>\n",
      "                <option value=\"saab\">Saab</option>\n",
      "                <option value=\"fiat\">Fiat</option>\n",
      "                <option value=\"audi\">Audi</option>\n",
      "            </select>\n",
      "            <br><br>\n",
      "\n",
      "            <input type=\"checkbox\">\n",
      "            I agree for the terms\n",
      "            <br><br>\n",
      "\n",
      "            <input type=\"submit\" value=\"Search\">\n",
      "        </form>\n",
      "\n",
      "        <br><hr><br>\n",
      "\n",
      "        <table>\n",
      "            <tr>\n",
      "                <th>House Size</th>\n",
      "                <th>Num of Rooms</th>\n",
      "                <th class=\"bg-yellow\">Has Garden</th>\n",
      "                <th>Price</th>\n",
      "            </tr>\n",
      "            <tr>\n",
      "                <td>120</td>\n",
      "                <td>3</td>\n",
      "                <td>yes</td>\n",
      "                <td>500000</td>\n",
      "            </tr>\n",
      "            <tr>\n",
      "                <td>140</td>\n",
      "                <td>4</td>\n",
      "                <td class=\"bg-yellow\">no</td>\n",
      "                <td>750000</td>\n",
      "            </tr>\n",
      "            <tr>\n",
      "                <td>80</td>\n",
      "                <td>1</td>\n",
      "                <td>no</td>\n",
      "                <td>300000</td>\n",
      "            </tr>\n",
      "        </table>\n",
      "\n",
      "\n",
      "        <br><hr><br>\n",
      "        \n",
      "\n",
      "\n",
      "\n",
      "        <iframe width=\"420\" height=\"345\" src=\"https://www.youtube.com/embed/tgbNymZ7vqY\"></iframe>\n",
      "\n",
      "\n",
      "        <br><hr><br>\n",
      "\n",
      "\n",
      "        <div id='bigred'>\n",
      "            Hello world\n",
      "        </div>\n",
      "\n",
      "        <br><hr><br>\n",
      "\n",
      "\n",
      "        <div id=\"smallblue\">\n",
      "            Hello python\n",
      "            <p>Iam a paragrapph</p>\n",
      "        </div>\n",
      "\n",
      "\n",
      "        \n",
      "\n",
      "    </body>\n",
      "\n",
      "\n",
      "</html>\n",
      "\n",
      "\n"
     ]
    }
   ],
   "source": [
    "print(response.text)"
   ]
  },
  {
   "cell_type": "code",
   "execution_count": 7,
   "id": "0e23ac16",
   "metadata": {},
   "outputs": [
    {
     "name": "stdout",
     "output_type": "stream",
     "text": [
      "Collecting beautifulsoup4\n",
      "  Downloading beautifulsoup4-4.12.0-py3-none-any.whl (132 kB)\n",
      "\u001b[2K     \u001b[90m━━━━━━━━━━━━━━━━━━━━━━━━━━━━━━━━━━━━━━━\u001b[0m \u001b[32m132.2/132.2 kB\u001b[0m \u001b[31m1.4 MB/s\u001b[0m eta \u001b[36m0:00:00\u001b[0ma \u001b[36m0:00:01\u001b[0m\n",
      "\u001b[?25hCollecting soupsieve>1.2\n",
      "  Downloading soupsieve-2.4-py3-none-any.whl (37 kB)\n",
      "Installing collected packages: soupsieve, beautifulsoup4\n",
      "Successfully installed beautifulsoup4-4.12.0 soupsieve-2.4\n"
     ]
    }
   ],
   "source": [
    "!pip install beautifulsoup4"
   ]
  },
  {
   "cell_type": "code",
   "execution_count": 14,
   "id": "87495eba",
   "metadata": {},
   "outputs": [],
   "source": [
    "#to deal with html and parse it in python import beautiful soup\n",
    "from bs4 import BeautifulSoup"
   ]
  },
  {
   "cell_type": "markdown",
   "id": "624503b6",
   "metadata": {},
   "source": [
    "# using beautiful soup"
   ]
  },
  {
   "cell_type": "code",
   "execution_count": 25,
   "id": "b103f9c1",
   "metadata": {},
   "outputs": [],
   "source": [
    "soup = BeautifulSoup(response.content, \"html.parser\")"
   ]
  },
  {
   "cell_type": "code",
   "execution_count": 26,
   "id": "12dd63a6",
   "metadata": {},
   "outputs": [
    {
     "data": {
      "text/plain": [
       "<!DOCTYPE html>\n",
       "\n",
       "<html>\n",
       "<head>\n",
       "<title>My First HTML Page</title>\n",
       "<style>\n",
       "\n",
       "            p {\n",
       "                color: green;\n",
       "                \n",
       "            }\n",
       "\n",
       "            h1 {\n",
       "                color:blue;\n",
       "                text-shadow: 2px 2px 5px red;\n",
       "            }\n",
       "\n",
       "\n",
       "            img {\n",
       "                width: 200px;\n",
       "                height: 200px;\n",
       "            }\n",
       "\n",
       "\n",
       "            select {\n",
       "                width: 300px;\n",
       "                height: 50px;\n",
       "                background-color: orange;\n",
       "            }\n",
       "\n",
       "            div#bigred {\n",
       "                width: 100%%;\n",
       "                height: 200px;\n",
       "                background-color: red;\n",
       "                margin: 20px;\n",
       "                color: white;\n",
       "            }\n",
       "\n",
       "\n",
       "            div#smallblue {\n",
       "                width: 100%%;\n",
       "                height: 100px;\n",
       "                background-color: blue;\n",
       "                margin: 20px;\n",
       "                color: yellow;\n",
       "            }\n",
       "\n",
       "            li.redul {\n",
       "                color: red;\n",
       "            }\n",
       "\n",
       "            li.blueol {\n",
       "                color:blue;\n",
       "            }\n",
       "\n",
       "            .h2_orange {\n",
       "                color: orange;\n",
       "            }\n",
       "\n",
       "            .jupyter_img {\n",
       "                width: 200px;\n",
       "                height: 200px;\n",
       "                border: solid green 3px;\n",
       "            }\n",
       "\n",
       "            .bg-yellow {\n",
       "                background-color: yellow;\n",
       "            }\n",
       "\n",
       "        </style>\n",
       "</head>\n",
       "<body>\n",
       "<p>Iam a paragrapph</p>\n",
       "<br/><hr/><br/>\n",
       "<h1>My First H1 Header</h1>\n",
       "<h1>My Second H1 Header</h1>\n",
       "<h2 class=\"h2_orange bg-yellow\">My First H2 Header</h2>\n",
       "<h2 class=\"h2_orange\">My Second H2 Header</h2>\n",
       "<h2>My 3rd H2 Header</h2>\n",
       "<br/><hr/><br/>\n",
       "<ul>\n",
       "<li class=\"redul\"> Milk </li>\n",
       "<li class=\"redul\"> Oranges </li>\n",
       "</ul>\n",
       "<br/><hr/><br/>\n",
       "<ol>\n",
       "<li class=\"blueol\"> Milk </li>\n",
       "<li class=\"blueol\"> Oranges </li>\n",
       "</ol>\n",
       "<br/><hr/><br/>\n",
       "<img class=\"jupyter_img\" src=\"my_img.png\"/>\n",
       "<br/><hr/><br/>\n",
       "<a href=\"http://www.google.com\">Go To Google</a>\n",
       "<br/><hr/><br/>\n",
       "<form>\n",
       "            Username: <input class=\"bg-yellow\" type=\"text\"/>\n",
       "<br/><br/>\n",
       "            Passowrd: <input type=\"password\"/>\n",
       "<br/><br/>\n",
       "<select>\n",
       "<option value=\"volvo\">Volvo</option>\n",
       "<option value=\"saab\">Saab</option>\n",
       "<option value=\"fiat\">Fiat</option>\n",
       "<option value=\"audi\">Audi</option>\n",
       "</select>\n",
       "<br/><br/>\n",
       "<input type=\"checkbox\"/>\n",
       "            I agree for the terms\n",
       "            <br/><br/>\n",
       "<input type=\"submit\" value=\"Search\"/>\n",
       "</form>\n",
       "<br/><hr/><br/>\n",
       "<table>\n",
       "<tr>\n",
       "<th>House Size</th>\n",
       "<th>Num of Rooms</th>\n",
       "<th class=\"bg-yellow\">Has Garden</th>\n",
       "<th>Price</th>\n",
       "</tr>\n",
       "<tr>\n",
       "<td>120</td>\n",
       "<td>3</td>\n",
       "<td>yes</td>\n",
       "<td>500000</td>\n",
       "</tr>\n",
       "<tr>\n",
       "<td>140</td>\n",
       "<td>4</td>\n",
       "<td class=\"bg-yellow\">no</td>\n",
       "<td>750000</td>\n",
       "</tr>\n",
       "<tr>\n",
       "<td>80</td>\n",
       "<td>1</td>\n",
       "<td>no</td>\n",
       "<td>300000</td>\n",
       "</tr>\n",
       "</table>\n",
       "<br/><hr/><br/>\n",
       "<iframe height=\"345\" src=\"https://www.youtube.com/embed/tgbNymZ7vqY\" width=\"420\"></iframe>\n",
       "<br/><hr/><br/>\n",
       "<div id=\"bigred\">\n",
       "            Hello world\n",
       "        </div>\n",
       "<br/><hr/><br/>\n",
       "<div id=\"smallblue\">\n",
       "            Hello python\n",
       "            <p>Iam a paragrapph</p>\n",
       "</div>\n",
       "</body>\n",
       "</html>"
      ]
     },
     "execution_count": 26,
     "metadata": {},
     "output_type": "execute_result"
    }
   ],
   "source": [
    "soup"
   ]
  },
  {
   "cell_type": "code",
   "execution_count": 44,
   "id": "63170966",
   "metadata": {},
   "outputs": [],
   "source": [
    "results = soup.find(\"h1\").get_text()\n",
    "# results = soup.find(\"h1\").text"
   ]
  },
  {
   "cell_type": "code",
   "execution_count": 45,
   "id": "8db36011",
   "metadata": {},
   "outputs": [
    {
     "name": "stdout",
     "output_type": "stream",
     "text": [
      "My First H1 Header\n"
     ]
    }
   ],
   "source": [
    "print(results)"
   ]
  },
  {
   "cell_type": "code",
   "execution_count": 46,
   "id": "460e668a",
   "metadata": {},
   "outputs": [
    {
     "data": {
      "text/plain": [
       "'Iam a paragrapph'"
      ]
     },
     "execution_count": 46,
     "metadata": {},
     "output_type": "execute_result"
    }
   ],
   "source": [
    "results_1 = soup.find(\"p\").get_text()\n",
    "# results = soup.find(\"h1\").text\n",
    "results_1"
   ]
  },
  {
   "cell_type": "code",
   "execution_count": 64,
   "id": "9167a9bf",
   "metadata": {},
   "outputs": [],
   "source": [
    "mylist=soup.find_all(\"h1\")"
   ]
  },
  {
   "cell_type": "code",
   "execution_count": 67,
   "id": "b3aa7bbb",
   "metadata": {},
   "outputs": [
    {
     "name": "stdout",
     "output_type": "stream",
     "text": [
      "My First H1 Header\n",
      "My Second H1 Header\n"
     ]
    }
   ],
   "source": [
    "for item in mylist:\n",
    "    print(item.get_text())"
   ]
  },
  {
   "cell_type": "code",
   "execution_count": 70,
   "id": "3be96f10",
   "metadata": {},
   "outputs": [
    {
     "name": "stdout",
     "output_type": "stream",
     "text": [
      "['My First H1 Header', 'My Second H1 Header']\n"
     ]
    }
   ],
   "source": [
    "text_list = [item.get_text() for item in mylist]\n",
    "print(text_list)"
   ]
  },
  {
   "cell_type": "code",
   "execution_count": 77,
   "id": "cd051613",
   "metadata": {},
   "outputs": [
    {
     "data": {
      "text/plain": [
       "'My First H2 Header'"
      ]
     },
     "execution_count": 77,
     "metadata": {},
     "output_type": "execute_result"
    }
   ],
   "source": [
    "soup.find(\"h2\",attrs={\"class\":\"h2_orange\"}).get_text()"
   ]
  },
  {
   "cell_type": "code",
   "execution_count": 79,
   "id": "55fa1987",
   "metadata": {},
   "outputs": [
    {
     "data": {
      "text/plain": [
       "['My First H2 Header', 'My Second H2 Header']"
      ]
     },
     "execution_count": 79,
     "metadata": {},
     "output_type": "execute_result"
    }
   ],
   "source": [
    "d=[u.get_text() for u in soup.find_all(\"h2\",attrs={\"class\":\"h2_orange\"})]\n",
    "d"
   ]
  },
  {
   "cell_type": "code",
   "execution_count": 82,
   "id": "f0a11930",
   "metadata": {},
   "outputs": [
    {
     "data": {
      "text/plain": [
       "'Go To Google'"
      ]
     },
     "execution_count": 82,
     "metadata": {},
     "output_type": "execute_result"
    }
   ],
   "source": [
    "soup.find(\"a\",{\"href\":\"http://www.google.com\"}).get_text()"
   ]
  },
  {
   "cell_type": "code",
   "execution_count": 84,
   "id": "0b9c4989",
   "metadata": {},
   "outputs": [
    {
     "data": {
      "text/plain": [
       "'Go To Google'"
      ]
     },
     "execution_count": 84,
     "metadata": {},
     "output_type": "execute_result"
    }
   ],
   "source": [
    "soup.find(href=\"http://www.google.com\").get_text()"
   ]
  },
  {
   "cell_type": "code",
   "execution_count": 85,
   "id": "00dc213f",
   "metadata": {},
   "outputs": [
    {
     "data": {
      "text/plain": [
       "{'href': 'http://www.google.com'}"
      ]
     },
     "execution_count": 85,
     "metadata": {},
     "output_type": "execute_result"
    }
   ],
   "source": [
    "soup.find(\"a\").attrs"
   ]
  },
  {
   "cell_type": "code",
   "execution_count": 86,
   "id": "ae24b8c4",
   "metadata": {},
   "outputs": [
    {
     "data": {
      "text/plain": [
       "'http://www.google.com'"
      ]
     },
     "execution_count": 86,
     "metadata": {},
     "output_type": "execute_result"
    }
   ],
   "source": [
    "#get(atrribute_name)Value\n",
    "soup.find(\"a\").get(\"href\")"
   ]
  },
  {
   "cell_type": "code",
   "execution_count": 89,
   "id": "18c4affb",
   "metadata": {},
   "outputs": [
    {
     "data": {
      "text/plain": [
       "<img class=\"jupyter_img\" src=\"my_img.png\"/>"
      ]
     },
     "execution_count": 89,
     "metadata": {},
     "output_type": "execute_result"
    }
   ],
   "source": [
    "soup.find(\"img\")"
   ]
  },
  {
   "cell_type": "code",
   "execution_count": 90,
   "id": "16196ec9",
   "metadata": {},
   "outputs": [
    {
     "data": {
      "text/plain": [
       "{'src': 'my_img.png', 'class': ['jupyter_img']}"
      ]
     },
     "execution_count": 90,
     "metadata": {},
     "output_type": "execute_result"
    }
   ],
   "source": [
    "soup.find(\"img\").attrs"
   ]
  },
  {
   "cell_type": "code",
   "execution_count": 91,
   "id": "5578ca86",
   "metadata": {},
   "outputs": [
    {
     "data": {
      "text/plain": [
       "'my_img.png'"
      ]
     },
     "execution_count": 91,
     "metadata": {},
     "output_type": "execute_result"
    }
   ],
   "source": [
    "soup.find(\"img\").get(\"src\")"
   ]
  },
  {
   "cell_type": "code",
   "execution_count": 93,
   "id": "4bba0905",
   "metadata": {},
   "outputs": [
    {
     "data": {
      "text/plain": [
       "<table>\n",
       "<tr>\n",
       "<th>House Size</th>\n",
       "<th>Num of Rooms</th>\n",
       "<th class=\"bg-yellow\">Has Garden</th>\n",
       "<th>Price</th>\n",
       "</tr>\n",
       "<tr>\n",
       "<td>120</td>\n",
       "<td>3</td>\n",
       "<td>yes</td>\n",
       "<td>500000</td>\n",
       "</tr>\n",
       "<tr>\n",
       "<td>140</td>\n",
       "<td>4</td>\n",
       "<td class=\"bg-yellow\">no</td>\n",
       "<td>750000</td>\n",
       "</tr>\n",
       "<tr>\n",
       "<td>80</td>\n",
       "<td>1</td>\n",
       "<td>no</td>\n",
       "<td>300000</td>\n",
       "</tr>\n",
       "</table>"
      ]
     },
     "execution_count": 93,
     "metadata": {},
     "output_type": "execute_result"
    }
   ],
   "source": [
    "soup.find(\"table\")"
   ]
  },
  {
   "cell_type": "code",
   "execution_count": 94,
   "id": "2026ddda",
   "metadata": {},
   "outputs": [
    {
     "data": {
      "text/plain": [
       "[<th>House Size</th>,\n",
       " <th>Num of Rooms</th>,\n",
       " <th class=\"bg-yellow\">Has Garden</th>,\n",
       " <th>Price</th>]"
      ]
     },
     "execution_count": 94,
     "metadata": {},
     "output_type": "execute_result"
    }
   ],
   "source": [
    "soup.find_all(\"th\")"
   ]
  },
  {
   "cell_type": "code",
   "execution_count": null,
   "id": "5f442c93",
   "metadata": {},
   "outputs": [],
   "source": []
  },
  {
   "cell_type": "code",
   "execution_count": 144,
   "id": "1f9f29c4",
   "metadata": {},
   "outputs": [],
   "source": [
    "header=[x.get_text() for x in soup.find_all(\"th\")]\n",
    "\n",
    "for i in soup.find_all(\"tr\"):\n",
    "    l1=[x.get_text() for x in i.find_all(\"td\")]\n"
   ]
  },
  {
   "cell_type": "code",
   "execution_count": 145,
   "id": "d8531c20",
   "metadata": {},
   "outputs": [],
   "source": [
    "import csv\n",
    "with open(\"table.csv\",\"w\",newline=\"\") as file:\n",
    "    writer=csv.writer(file)\n",
    "    writer.writerow(header)\n",
    "    for i in soup.find_all(\"tr\"):\n",
    "        l1=[x.get_text() for x in i.find_all(\"td\")]\n",
    "        writer.writerow(l1)"
   ]
  },
  {
   "cell_type": "code",
   "execution_count": null,
   "id": "ba1df0a9",
   "metadata": {},
   "outputs": [],
   "source": []
  },
  {
   "cell_type": "code",
   "execution_count": null,
   "id": "eeaee85e",
   "metadata": {},
   "outputs": [],
   "source": []
  },
  {
   "cell_type": "code",
   "execution_count": null,
   "id": "92498df7",
   "metadata": {},
   "outputs": [],
   "source": []
  }
 ],
 "metadata": {
  "kernelspec": {
   "display_name": "Python 3 (ipykernel)",
   "language": "python",
   "name": "python3"
  },
  "language_info": {
   "codemirror_mode": {
    "name": "ipython",
    "version": 3
   },
   "file_extension": ".py",
   "mimetype": "text/x-python",
   "name": "python",
   "nbconvert_exporter": "python",
   "pygments_lexer": "ipython3",
   "version": "3.9.12"
  }
 },
 "nbformat": 4,
 "nbformat_minor": 5
}
